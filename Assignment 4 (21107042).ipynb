{
 "cells": [
  {
   "cell_type": "code",
   "execution_count": 7,
   "id": "caabc503",
   "metadata": {},
   "outputs": [
    {
     "name": "stdout",
     "output_type": "stream",
     "text": [
      "Enter your marks here: 100\n",
      "Your grade is A\n"
     ]
    }
   ],
   "source": [
    "'''QUEST_1: A school has following rules for grading system:\n",
    "            a. Below 25 - F\n",
    "            b. 25 to 45 - E\n",
    "            c. 45 to 50 - D\n",
    "            d. 50 to 60 - C\n",
    "            e. 60 to 80 - B\n",
    "            f. Above 80 - A\n",
    "            Ask user to enter marks and print the corresponding grade.'''\n",
    "    \n",
    "marks = int(input(\"Enter your marks here: \"))\n",
    "if marks > 80:\n",
    "    print(\"Your grade is A\")\n",
    "elif 60 < marks <= 80 :\n",
    "    print(\"Your grade is B\")\n",
    "elif 50 < marks <= 60 :\n",
    "    print(\"Your grade is C\")\n",
    "elif 45 < marks <= 50 :\n",
    "    print(\"Your grade is D\")\n",
    "elif 25 < marks <= 45 : \n",
    "    print(\"Your grade is E\")\n",
    "elif marks <= 25 :\n",
    "    print(\"Your grade is F\")"
   ]
  },
  {
   "cell_type": "code",
   "execution_count": 5,
   "id": "e8e6201c",
   "metadata": {},
   "outputs": [
    {
     "name": "stdout",
     "output_type": "stream",
     "text": [
      "Enter the year: 1800\n",
      "It is not a leap year.\n"
     ]
    }
   ],
   "source": [
    "'''QUEST_2: A year is a leap year if it is divisible by 4, except that  years divisible by 100 are not leap years \n",
    "            unless they are also divisible by 400. Write a program that asks the user  for a year and prints out \n",
    "            whether it is a leap year or not.'''\n",
    "\n",
    "Year = int(input(\"Enter the year: \"))\n",
    "\n",
    "while Year % 100 == 0 :\n",
    "    if Year % 400 == 0 :\n",
    "        print(\"It is a Leap year.\")\n",
    "        break\n",
    "    else:\n",
    "        print(\"It is not a leap year.\")\n",
    "        break\n",
    "else :\n",
    "    if Year % 4 == 0 :\n",
    "        print(\"It is a Leap year.\")\n",
    "    else:\n",
    "        print(\"It is not a leap year.\")"
   ]
  },
  {
   "cell_type": "code",
   "execution_count": 2,
   "id": "8e544ca5",
   "metadata": {},
   "outputs": [
    {
     "name": "stdout",
     "output_type": "stream",
     "text": [
      "Hello and Welcome to the Multiplication Game!.\n",
      "In This Game, you would be asked to solve 10 multiplicative questions based on your game level.\n",
      "Level 1: Numbers upto 20. \n",
      "Level 2: Numbers upto 50. \n",
      "Level 3: Numbers upto 100.\n",
      "\n",
      "Select the game level(Enter 1/2/3 only): 2\n",
      "\n",
      "Question 1 : Solve 9 x 44 =\n",
      "Enter your answer:396\n",
      "Right!\n",
      "\n",
      "Question 2 : Solve 45 x 47 =\n",
      "Enter your answer:69\n",
      "Wrong!! The correct answer is 2115\n",
      "\n",
      "Question 3 : Solve 11 x 10 =\n",
      "Enter your answer:110\n",
      "Right!\n",
      "\n",
      "Question 4 : Solve 29 x 0 =\n",
      "Enter your answer:0\n",
      "Right!\n",
      "\n",
      "Question 5 : Solve 49 x 22 =\n",
      "Enter your answer:69\n",
      "Wrong!! The correct answer is 1078\n",
      "\n",
      "Question 6 : Solve 2 x 8 =\n",
      "Enter your answer:16\n",
      "Right!\n",
      "\n",
      "Question 7 : Solve 15 x 16 =\n",
      "Enter your answer:240\n",
      "Right!\n",
      "\n",
      "Question 8 : Solve 46 x 37 =\n",
      "Enter your answer:69\n",
      "Wrong!! The correct answer is 1702\n",
      "\n",
      "Question 9 : Solve 2 x 45 =\n",
      "Enter your answer:69\n",
      "Wrong!! The correct answer is 90\n",
      "\n",
      "Question 10 : Solve 0 x 40 =\n",
      "Enter your answer:69\n",
      "Wrong!! The correct answer is 0\n",
      "\n",
      "Your Score is: 5\n",
      "THANK YOU FOR PLAYING!\n"
     ]
    }
   ],
   "source": [
    "'''QUEST_3: Write a multiplication game program for kids. The program  should give the player ten randomly generated \n",
    "            multiplication questions to do. After each, the program should tell them  whether they got it right or \n",
    "            wrong and what the correct answer is.'''\n",
    "\n",
    "print(\"Hello and Welcome to the Multiplication Game!.\")\n",
    "print(\"In This Game, you would be asked to solve 10 multiplicative questions based on your game level.\")\n",
    "print(\"Level 1: Numbers upto 20.\", \"\\nLevel 2: Numbers upto 50.\", \"\\nLevel 3: Numbers upto 100.\")\n",
    "print()\n",
    "Level = int(input(\"Select the game level(Enter 1/2/3 only): \"))\n",
    "print()\n",
    "if Level == 1:\n",
    "    l = 20\n",
    "if Level == 2:\n",
    "    l = 50\n",
    "if Level == 3:\n",
    "    l = 100\n",
    "\n",
    "score = 0\n",
    "\n",
    "import random\n",
    "for i in range (1,11):\n",
    "    n_1 = random.randint(0,l)\n",
    "    n_2 = random.randint(0,l)\n",
    "    \n",
    "    print(\"Question\", i,\": Solve\", n_1, \"x\", n_2, \"=\")\n",
    "    \n",
    "    ans = int(input(\"Enter your answer:\"))\n",
    "    \n",
    "    if n_1 * n_2 == ans :\n",
    "        print(\"Right!\")\n",
    "        score += 1\n",
    "        print()\n",
    "        \n",
    "    else :\n",
    "        print(\"Wrong!! The correct answer is\", n_1 * n_2)\n",
    "        print()\n",
    "print(\"Your Score is:\", score)\n",
    "print(\"THANK YOU FOR PLAYING!\")"
   ]
  },
  {
   "cell_type": "code",
   "execution_count": 4,
   "id": "de960ad6",
   "metadata": {},
   "outputs": [
    {
     "name": "stdout",
     "output_type": "stream",
     "text": [
      "Total number of candies in the bowl are 177\n"
     ]
    }
   ],
   "source": [
    "'''QUEST_4: A jar of Halloween candy contains an unknown amount of candy and if you can guess exactly how much candy is in \n",
    "            the bowl then you win all the candy. You ask the person in charge the following: If the candy is divided evenly \n",
    "            among 5 people, how many pieces would be left over? The answer is 2 pieces. You then ask about dividing the \n",
    "            candy evenly among 6 people, and the amount left over is 3 pieces. Finally, you ask about dividing the candy \n",
    "            evenly among 7 people, and the amount left over is 2 pieces. By looking at the bowl, you can tell that there \n",
    "            are less than 200 pieces. Write a program to determine how many pieces are in the bowl.'''\n",
    "\n",
    "for tot_candies in range(200):\n",
    "    \n",
    "    if tot_candies % 5 == 2 and tot_candies % 6 == 3 and tot_candies % 7 == 2 :\n",
    "        \n",
    "        print(\"Total number of candies in the bowl are\", tot_candies)"
   ]
  }
 ],
 "metadata": {
  "kernelspec": {
   "display_name": "Python 3",
   "language": "python",
   "name": "python3"
  },
  "language_info": {
   "codemirror_mode": {
    "name": "ipython",
    "version": 3
   },
   "file_extension": ".py",
   "mimetype": "text/x-python",
   "name": "python",
   "nbconvert_exporter": "python",
   "pygments_lexer": "ipython3",
   "version": "3.8.8"
  }
 },
 "nbformat": 4,
 "nbformat_minor": 5
}
